{
 "cells": [
  {
   "cell_type": "code",
   "execution_count": 1,
   "id": "3cd9e835",
   "metadata": {},
   "outputs": [],
   "source": [
    "import json\n",
    "import pandas as pd\n",
    "import numpy as np\n",
    "# import pretty print to easily view json\n",
    "import pprint as pp\n",
    "# import library for regular expressions\n",
    "import re\n",
    "# import the sqlalchemy module\n",
    "from sqlalchemy import create_engine\n",
    "#Import database password\n",
    "from config import db_password\n",
    "# import time module\n",
    "import time"
   ]
  },
  {
   "cell_type": "code",
   "execution_count": null,
   "id": "116f96bd",
   "metadata": {},
   "outputs": [],
   "source": []
  }
 ],
 "metadata": {
  "kernelspec": {
   "display_name": "Python 3 (ipykernel)",
   "language": "python",
   "name": "python3"
  },
  "language_info": {
   "codemirror_mode": {
    "name": "ipython",
    "version": 3
   },
   "file_extension": ".py",
   "mimetype": "text/x-python",
   "name": "python",
   "nbconvert_exporter": "python",
   "pygments_lexer": "ipython3",
   "version": "3.7.11"
  }
 },
 "nbformat": 4,
 "nbformat_minor": 5
}
